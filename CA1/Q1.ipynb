{
 "cells": [
  {
   "cell_type": "code",
   "execution_count": 14,
   "metadata": {},
   "outputs": [],
   "source": [
    "import torch\n",
    "import torch.nn as nn\n",
    "import torch.optim as optim\n",
    "import torchvision\n",
    "import torchvision.transforms as transforms\n",
    "from sklearn.metrics import confusion_matrix\n",
    "import seaborn as sns\n",
    "import matplotlib.pyplot as plt\n",
    "import gzip\n",
    "import numpy as np\n",
    "import struct"
   ]
  },
  {
   "cell_type": "code",
   "execution_count": 13,
   "metadata": {},
   "outputs": [
    {
     "ename": "NameError",
     "evalue": "name 'gzip' is not defined",
     "output_type": "error",
     "traceback": [
      "\u001b[1;31m---------------------------------------------------------------------------\u001b[0m",
      "\u001b[1;31mNameError\u001b[0m                                 Traceback (most recent call last)",
      "Cell \u001b[1;32mIn[13], line 18\u001b[0m\n\u001b[0;32m     15\u001b[0m         labels \u001b[38;5;241m=\u001b[39m np\u001b[38;5;241m.\u001b[39mfrombuffer(f\u001b[38;5;241m.\u001b[39mread(), dtype\u001b[38;5;241m=\u001b[39mnp\u001b[38;5;241m.\u001b[39muint8)\n\u001b[0;32m     16\u001b[0m     \u001b[38;5;28;01mreturn\u001b[39;00m labels\n\u001b[1;32m---> 18\u001b[0m train_images \u001b[38;5;241m=\u001b[39m \u001b[43mread_idx_images\u001b[49m\u001b[43m(\u001b[49m\u001b[43mtrain_images_path\u001b[49m\u001b[43m)\u001b[49m\n\u001b[0;32m     19\u001b[0m train_labels \u001b[38;5;241m=\u001b[39m read_idx_labels(train_labels_path)\n\u001b[0;32m     20\u001b[0m test_images \u001b[38;5;241m=\u001b[39m read_idx_images(test_images_path)\n",
      "Cell \u001b[1;32mIn[13], line 7\u001b[0m, in \u001b[0;36mread_idx_images\u001b[1;34m(filepath)\u001b[0m\n\u001b[0;32m      6\u001b[0m \u001b[38;5;28;01mdef\u001b[39;00m \u001b[38;5;21mread_idx_images\u001b[39m(filepath):\n\u001b[1;32m----> 7\u001b[0m     \u001b[38;5;28;01mwith\u001b[39;00m \u001b[43mgzip\u001b[49m\u001b[38;5;241m.\u001b[39mopen(filepath, \u001b[38;5;124m'\u001b[39m\u001b[38;5;124mrb\u001b[39m\u001b[38;5;124m'\u001b[39m) \u001b[38;5;28;01mas\u001b[39;00m f:\n\u001b[0;32m      8\u001b[0m         magic, num, rows, cols \u001b[38;5;241m=\u001b[39m struct\u001b[38;5;241m.\u001b[39munpack(\u001b[38;5;124m\"\u001b[39m\u001b[38;5;124m>IIII\u001b[39m\u001b[38;5;124m\"\u001b[39m, f\u001b[38;5;241m.\u001b[39mread(\u001b[38;5;241m16\u001b[39m))\n\u001b[0;32m      9\u001b[0m         images \u001b[38;5;241m=\u001b[39m np\u001b[38;5;241m.\u001b[39mfrombuffer(f\u001b[38;5;241m.\u001b[39mread(), dtype\u001b[38;5;241m=\u001b[39mnp\u001b[38;5;241m.\u001b[39muint8)\u001b[38;5;241m.\u001b[39mreshape(num, rows, cols)\n",
      "\u001b[1;31mNameError\u001b[0m: name 'gzip' is not defined"
     ]
    }
   ],
   "source": [
    "\n",
    "train_images_path = './Data/fashion mnist/train-images-idx3-ubyte.gz'\n",
    "train_labels_path = './Data/fashion mnist/train-labels-idx1-ubyte.gz'\n",
    "test_images_path = './Data/fashion mnist/t10k-images-idx3-ubyte.gz'\n",
    "test_labels_path = './Data/fashion mnist/t10k-labels-idx1-ubyte.gz'\n",
    "\n",
    "def read_idx_images(filepath):\n",
    "    with gzip.open(filepath, 'rb') as f:\n",
    "        magic, num, rows, cols = struct.unpack(\">IIII\", f.read(16))\n",
    "        images = np.frombuffer(f.read(), dtype=np.uint8).reshape(num, rows, cols)\n",
    "    return images\n",
    "\n",
    "def read_idx_labels(filepath):\n",
    "    with gzip.open(filepath, 'rb') as f:\n",
    "        magic, num = struct.unpack(\">II\", f.read(8))\n",
    "        labels = np.frombuffer(f.read(), dtype=np.uint8)\n",
    "    return labels\n",
    "\n",
    "train_images = read_idx_images(train_images_path)\n",
    "train_labels = read_idx_labels(train_labels_path)\n",
    "test_images = read_idx_images(test_images_path)\n",
    "test_labels = read_idx_labels(test_labels_path)\n",
    "\n",
    "print(f'Train images shape: {train_images.shape}')  # Should be (60000, 28, 28)\n",
    "print(f'Train labels shape: {train_labels.shape}')  # Should be (60000,)\n",
    "print(f'Test images shape: {test_images.shape}')    # Should be (10000, 28, 28)\n",
    "print(f'Test labels shape: {test_labels.shape}')    # Should be (10000,)\n"
   ]
  },
  {
   "cell_type": "code",
   "execution_count": null,
   "metadata": {},
   "outputs": [],
   "source": [
    "class MLP(nn.Module):\n",
    "    def __init__(self):\n",
    "        super(MLP, self).__init__()\n",
    "        self.fc1 = nn.Linear(28*28, 100)   # First hidden layer with 100 nodes\n",
    "        self.relu = nn.ReLU()              # ReLU activation function\n",
    "        self.dropout = nn.Dropout(0.3)     # Dropout with 30% probability\n",
    "        self.fc2 = nn.Linear(100, 10)      # Output layer for 10 classes\n",
    "    \n",
    "    def forward(self, x):\n",
    "        x = x.view(-1, 28*28)              # Flatten the image\n",
    "        x = self.fc1(x)\n",
    "        x = self.relu(x)\n",
    "        x = self.dropout(x)\n",
    "        x = self.fc2(x)\n",
    "        return x\n"
   ]
  },
  {
   "cell_type": "code",
   "execution_count": null,
   "metadata": {},
   "outputs": [],
   "source": [
    "model = MLP()\n",
    "criterion = nn.CrossEntropyLoss()\n",
    "optimizer = optim.Adam(model.parameters(), weight_decay=0.0001)  # L2 regularization with weight_decay\n",
    "\n",
    "# 4. Training the Model\n",
    "num_epochs = 20\n",
    "for epoch in range(num_epochs):\n",
    "    model.train()  # Set model to training mode\n",
    "    running_loss = 0.0\n",
    "    for i, (images, labels) in enumerate(train_loader):\n",
    "        outputs = model(images)\n",
    "        loss = criterion(outputs, labels)\n",
    "        \n",
    "        optimizer.zero_grad()\n",
    "        loss.backward()\n",
    "        optimizer.step()\n",
    "        \n",
    "        running_loss += loss.item()\n",
    "    \n",
    "    print(f'Epoch [{epoch+1}/{num_epochs}], Loss: {running_loss/len(train_loader):.4f}')\n"
   ]
  },
  {
   "cell_type": "code",
   "execution_count": null,
   "metadata": {},
   "outputs": [],
   "source": [
    "model.eval()  # Set model to evaluation mode\n",
    "all_preds = []\n",
    "all_labels = []\n",
    "\n",
    "with torch.no_grad():\n",
    "    for images, labels in test_loader:\n",
    "        outputs = model(images)\n",
    "        _, predicted = torch.max(outputs.data, 1)\n",
    "        all_preds.extend(predicted.cpu().numpy())\n",
    "        all_labels.extend(labels.cpu().numpy())\n",
    "\n",
    "# 6. Generating and Plotting Confusion Matrix\n",
    "conf_matrix = confusion_matrix(all_labels, all_preds)\n",
    "plt.figure(figsize=(10,8))\n",
    "sns.heatmap(conf_matrix, annot=True, fmt=\"d\", cmap='Blues', xticklabels=train_set.classes, yticklabels=train_set.classes)\n",
    "plt.xlabel('Predicted')\n",
    "plt.ylabel('True')\n",
    "plt.title('Confusion Matrix for Fashion-MNIST Classification')\n",
    "plt.show()\n",
    "\n",
    "# 7. Analyzing Most Confused Classes\n",
    "conf_matrix_sum = conf_matrix.sum(axis=1)\n",
    "most_confused_classes = conf_matrix_sum.argsort()[-2:][::-1]\n",
    "print(f'Two classes most confused with each other: {train_set.classes[most_confused_classes[0]]} and {train_set.classes[most_confused_classes[1]]}')"
   ]
  }
 ],
 "metadata": {
  "kernelspec": {
   "display_name": "Python 3",
   "language": "python",
   "name": "python3"
  },
  "language_info": {
   "codemirror_mode": {
    "name": "ipython",
    "version": 3
   },
   "file_extension": ".py",
   "mimetype": "text/x-python",
   "name": "python",
   "nbconvert_exporter": "python",
   "pygments_lexer": "ipython3",
   "version": "3.11.4"
  }
 },
 "nbformat": 4,
 "nbformat_minor": 2
}
